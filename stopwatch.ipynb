{
 "cells": [
  {
   "cell_type": "code",
   "execution_count": 1,
   "metadata": {},
   "outputs": [
    {
     "data": {
      "application/vnd.jupyter.widget-view+json": {
       "model_id": "67a41b4b35d9492d88e45af54a821be0",
       "version_major": 2,
       "version_minor": 0
      },
      "text/plain": [
       "Label(value='00:00:00')"
      ]
     },
     "metadata": {},
     "output_type": "display_data"
    },
    {
     "data": {
      "application/vnd.jupyter.widget-view+json": {
       "model_id": "6ef281a55f5942bba514555016e177cc",
       "version_major": 2,
       "version_minor": 0
      },
      "text/plain": [
       "Button(description='Start', style=ButtonStyle())"
      ]
     },
     "metadata": {},
     "output_type": "display_data"
    },
    {
     "data": {
      "application/vnd.jupyter.widget-view+json": {
       "model_id": "846255a6ba9e40cda2fa4713965e71b6",
       "version_major": 2,
       "version_minor": 0
      },
      "text/plain": [
       "Button(description='Stop', style=ButtonStyle())"
      ]
     },
     "metadata": {},
     "output_type": "display_data"
    },
    {
     "data": {
      "application/vnd.jupyter.widget-view+json": {
       "model_id": "b679a18784b84572b6ae72d7ad1633fa",
       "version_major": 2,
       "version_minor": 0
      },
      "text/plain": [
       "Button(description='Reset', style=ButtonStyle())"
      ]
     },
     "metadata": {},
     "output_type": "display_data"
    }
   ],
   "source": [
    "import ipywidgets as widgets\n",
    "from IPython.display import display\n",
    "import time\n",
    "import threading\n",
    "\n",
    "# Create buttons for controlling the stopwatch\n",
    "start_button = widgets.Button(description=\"Start\")\n",
    "stop_button = widgets.Button(description=\"Stop\")\n",
    "reset_button = widgets.Button(description=\"Reset\")\n",
    "\n",
    "# Create a label to display the elapsed time\n",
    "timer_label = widgets.Label(value=\"00:00:00\")\n",
    "\n",
    "# Initialize variables\n",
    "running = False\n",
    "start_time = 0\n",
    "elapsed_time = 0\n",
    "\n",
    "def update_timer():\n",
    "    global elapsed_time\n",
    "    while running:\n",
    "        elapsed_time = time.time() - start_time  # Calculate elapsed time\n",
    "        minutes, seconds = divmod(elapsed_time, 60)  # Convert seconds to minutes and seconds\n",
    "        \n",
    "        # Update timer display with formatted string (f-string)\n",
    "        timer_label.value = f\"{int(minutes):02}:{int(seconds):02}\"  \n",
    "        timer_label.value += f\":{int((elapsed_time % 1) * 100):02} seconds\"  \n",
    "        \n",
    "        time.sleep(0.1)  # Sleep for a short duration to control update frequency\n",
    "\n",
    "def start_timer(b):\n",
    "    global running, start_time, elapsed_time\n",
    "    if not running:\n",
    "        running = True\n",
    "        start_time = time.time() - elapsed_time  # Adjust start time based on elapsed time\n",
    "        # Start a new thread for updating the timer\n",
    "        threading.Thread(target=update_timer, daemon=True).start()\n",
    "\n",
    "def stop_timer(b):\n",
    "    global running\n",
    "    running = False  # Stop updating the timer\n",
    "\n",
    "def reset_timer(b):\n",
    "    global running, elapsed_time\n",
    "    running = False \n",
    "    elapsed_time = 0  \n",
    "    timer_label.value = \"00:00:00\"  \n",
    "\n",
    "# Attach functions to button click events\n",
    "start_button.on_click(start_timer)\n",
    "stop_button.on_click(stop_timer)\n",
    "reset_button.on_click(reset_timer)\n",
    "\n",
    "# Display all widgets in Jupyter Notebook\n",
    "display(timer_label)\n",
    "display(start_button)\n",
    "display(stop_button)\n",
    "display(reset_button)"
   ]
  }
 ],
 "metadata": {
  "kernelspec": {
   "display_name": "venv",
   "language": "python",
   "name": "python3"
  },
  "language_info": {
   "codemirror_mode": {
    "name": "ipython",
    "version": 3
   },
   "file_extension": ".py",
   "mimetype": "text/x-python",
   "name": "python",
   "nbconvert_exporter": "python",
   "pygments_lexer": "ipython3",
   "version": "3.12.3"
  }
 },
 "nbformat": 4,
 "nbformat_minor": 2
}
