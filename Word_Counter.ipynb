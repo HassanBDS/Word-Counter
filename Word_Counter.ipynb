{
 "cells": [
  {
   "cell_type": "markdown",
   "metadata": {},
   "source": [
    "### \n",
    "source venv/bin/activate"
   ]
  },
  {
   "cell_type": "markdown",
   "metadata": {},
   "source": [
    "# Import Required Libraries:"
   ]
  },
  {
   "cell_type": "code",
   "execution_count": 1,
   "metadata": {},
   "outputs": [],
   "source": [
    "import ipywidgets as widgets\n",
    "from IPython.display import display"
   ]
  },
  {
   "cell_type": "code",
   "execution_count": 3,
   "metadata": {},
   "outputs": [
    {
     "data": {
      "application/vnd.jupyter.widget-view+json": {
       "model_id": "214a292e216c4bc9b1fe4611268ac4fc",
       "version_major": 2,
       "version_minor": 0
      },
      "text/plain": [
       "Textarea(value='', description='Enter Text: ', layout=Layout(height='100px', width='50%'))"
      ]
     },
     "metadata": {},
     "output_type": "display_data"
    },
    {
     "data": {
      "application/vnd.jupyter.widget-view+json": {
       "model_id": "f597b9d552014fd589d22f09bb847bfa",
       "version_major": 2,
       "version_minor": 0
      },
      "text/plain": [
       "Label(value='Word Count: ')"
      ]
     },
     "metadata": {},
     "output_type": "display_data"
    },
    {
     "data": {
      "application/vnd.jupyter.widget-view+json": {
       "model_id": "41930c6e8a8b40ceaee593e818acff56",
       "version_major": 2,
       "version_minor": 0
      },
      "text/plain": [
       "Label(value='Character Count: ')"
      ]
     },
     "metadata": {},
     "output_type": "display_data"
    },
    {
     "data": {
      "application/vnd.jupyter.widget-view+json": {
       "model_id": "7b4c809404df40acbae964be8f2fb579",
       "version_major": 2,
       "version_minor": 0
      },
      "text/plain": [
       "Button(description='Count', style=ButtonStyle())"
      ]
     },
     "metadata": {},
     "output_type": "display_data"
    },
    {
     "data": {
      "application/vnd.jupyter.widget-view+json": {
       "model_id": "b11c43964cc1457599be1b18ebf72f98",
       "version_major": 2,
       "version_minor": 0
      },
      "text/plain": [
       "Textarea(value='', description='Your Text:', disabled=True, layout=Layout(height='100px', width='50%'))"
      ]
     },
     "metadata": {},
     "output_type": "display_data"
    }
   ],
   "source": [
    "# Create Input and Output Widgets\n",
    "input_box = widgets.Textarea(description=\"Enter Text: \",\n",
    "                             layout=widgets.Layout(width=\"50%\", height=\"100px\"))\n",
    "word_count_label = widgets.Label(value=\"Word Count: \")\n",
    "char_count_label = widgets.Label(value=\"Character Count: \")\n",
    "\n",
    "# Use Textarea to preserve formatting (multi-line input)\n",
    "content_display = widgets.Textarea(description=\"Your Text:\",\n",
    "                                   disabled=True, layout=widgets.Layout(width=\"50%\", height=\"100px\"))\n",
    "count_button = widgets.Button(description=\"Count\")\n",
    "\n",
    "# Write the Counting Logic\n",
    "def count_text(b):\n",
    "    text = input_box.value\n",
    "    words = text.split()\n",
    "    word_count = len(words)\n",
    "    char_count = len(text)\n",
    "    word_count_label.value = f\"Word Count: {word_count}\"\n",
    "    char_count_label.value = f\"Charcter Count: {char_count}\"\n",
    "    content_display.value = text\n",
    "\n",
    "# Attach the Function to the Button\n",
    "count_button.on_click(count_text)\n",
    "\n",
    "# Display Widgets\n",
    "display(input_box, word_count_label, char_count_label, count_button, content_display)"
   ]
  }
 ],
 "metadata": {
  "kernelspec": {
   "display_name": "venv",
   "language": "python",
   "name": "python3"
  },
  "language_info": {
   "codemirror_mode": {
    "name": "ipython",
    "version": 3
   },
   "file_extension": ".py",
   "mimetype": "text/x-python",
   "name": "python",
   "nbconvert_exporter": "python",
   "pygments_lexer": "ipython3",
   "version": "3.12.3"
  }
 },
 "nbformat": 4,
 "nbformat_minor": 2
}
